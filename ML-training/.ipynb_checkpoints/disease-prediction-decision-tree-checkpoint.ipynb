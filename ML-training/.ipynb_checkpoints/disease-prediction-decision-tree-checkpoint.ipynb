{
 "cells": [
  {
   "cell_type": "code",
   "execution_count": null,
   "metadata": {
    "execution": {
     "iopub.execute_input": "2022-02-20T07:26:55.866139Z",
     "iopub.status.busy": "2022-02-20T07:26:55.865577Z",
     "iopub.status.idle": "2022-02-20T07:26:56.256869Z",
     "shell.execute_reply": "2022-02-20T07:26:56.256031Z",
     "shell.execute_reply.started": "2022-02-20T07:26:55.866047Z"
    }
   },
   "outputs": [],
   "source": [
    "import pandas as pd\n",
    "import numpy as np\n",
    "df = pd.read_csv(\"Training.csv\")"
   ]
  },
  {
   "cell_type": "code",
   "execution_count": null,
   "metadata": {
    "execution": {
     "iopub.execute_input": "2022-02-20T07:26:56.266494Z",
     "iopub.status.busy": "2022-02-20T07:26:56.265784Z",
     "iopub.status.idle": "2022-02-20T07:26:56.2818Z",
     "shell.execute_reply": "2022-02-20T07:26:56.281258Z",
     "shell.execute_reply.started": "2022-02-20T07:26:56.266452Z"
    },
    "scrolled": true
   },
   "outputs": [],
   "source": [
    "df.drop('Unnamed: 133', axis=1, inplace=True)\n",
    "df.columns"
   ]
  },
  {
   "cell_type": "code",
   "execution_count": null,
   "metadata": {
    "execution": {
     "iopub.execute_input": "2022-02-20T07:26:56.284213Z",
     "iopub.status.busy": "2022-02-20T07:26:56.283619Z",
     "iopub.status.idle": "2022-02-20T07:26:56.293055Z",
     "shell.execute_reply": "2022-02-20T07:26:56.29236Z",
     "shell.execute_reply.started": "2022-02-20T07:26:56.284168Z"
    }
   },
   "outputs": [],
   "source": [
    "df.head()"
   ]
  },
  {
   "cell_type": "code",
   "execution_count": null,
   "metadata": {
    "execution": {
     "iopub.execute_input": "2022-02-20T07:26:56.29456Z",
     "iopub.status.busy": "2022-02-20T07:26:56.294348Z",
     "iopub.status.idle": "2022-02-20T07:26:56.308672Z",
     "shell.execute_reply": "2022-02-20T07:26:56.30793Z",
     "shell.execute_reply.started": "2022-02-20T07:26:56.29453Z"
    }
   },
   "outputs": [],
   "source": [
    "df['prognosis'].value_counts()"
   ]
  },
  {
   "cell_type": "code",
   "execution_count": null,
   "metadata": {
    "execution": {
     "iopub.execute_input": "2022-02-20T07:26:56.310151Z",
     "iopub.status.busy": "2022-02-20T07:26:56.309934Z",
     "iopub.status.idle": "2022-02-20T07:26:57.507279Z",
     "shell.execute_reply": "2022-02-20T07:26:57.506469Z",
     "shell.execute_reply.started": "2022-02-20T07:26:56.310125Z"
    }
   },
   "outputs": [],
   "source": [
    "from sklearn.tree import DecisionTreeClassifier\n",
    "from sklearn.metrics import classification_report,accuracy_score\n",
    "from sklearn.metrics import mean_absolute_error\n",
    "tree = DecisionTreeClassifier()\n",
    "\n",
    "\n",
    "from sklearn.model_selection import train_test_split\n",
    "x = df.drop('prognosis', axis = 1)\n",
    "y = df['prognosis']\n",
    "x_train, x_test, y_train, y_test = train_test_split(x, y, test_size=0.3, random_state=42) \n",
    "tree.fit(x_train, y_train)\n",
    "\n",
    "pred = tree.predict(x_test)\n",
    "acc = tree.score(x_test, y_test)\n",
    "\n",
    "print(\"Acurray on test set: {:.2f}%\".format(acc*100))\n",
    "\n"
   ]
  },
  {
   "cell_type": "code",
   "execution_count": null,
   "metadata": {
    "execution": {
     "iopub.execute_input": "2022-02-20T07:26:57.508674Z",
     "iopub.status.busy": "2022-02-20T07:26:57.50847Z",
     "iopub.status.idle": "2022-02-20T07:26:57.519776Z",
     "shell.execute_reply": "2022-02-20T07:26:57.519225Z",
     "shell.execute_reply.started": "2022-02-20T07:26:57.508649Z"
    }
   },
   "outputs": [],
   "source": [
    "fi = pd.DataFrame(tree.feature_importances_*100, x_test.columns, columns=['Importance'])\n",
    "fi.sort_values(by='Importance',ascending=False, inplace=True)\n",
    "fi"
   ]
  },
  {
   "cell_type": "code",
   "execution_count": null,
   "metadata": {
    "execution": {
     "iopub.execute_input": "2022-02-20T07:26:57.521048Z",
     "iopub.status.busy": "2022-02-20T07:26:57.520738Z",
     "iopub.status.idle": "2022-02-20T07:26:57.527326Z",
     "shell.execute_reply": "2022-02-20T07:26:57.52655Z",
     "shell.execute_reply.started": "2022-02-20T07:26:57.521021Z"
    }
   },
   "outputs": [],
   "source": [
    "zeros = np.array(fi[fi['Importance'] <= 2.300000].index)\n",
    "zeros"
   ]
  },
  {
   "cell_type": "code",
   "execution_count": null,
   "metadata": {
    "execution": {
     "iopub.execute_input": "2022-02-20T07:26:57.528926Z",
     "iopub.status.busy": "2022-02-20T07:26:57.52857Z",
     "iopub.status.idle": "2022-02-20T07:26:57.542144Z",
     "shell.execute_reply": "2022-02-20T07:26:57.541283Z",
     "shell.execute_reply.started": "2022-02-20T07:26:57.528899Z"
    }
   },
   "outputs": [],
   "source": [
    "training_new = df.drop(columns=zeros, axis=1)\n",
    "training_new.shape[1]\n",
    "training_new.columns"
   ]
  },
  {
   "cell_type": "code",
   "execution_count": null,
   "metadata": {
    "execution": {
     "iopub.execute_input": "2022-02-20T07:26:57.544668Z",
     "iopub.status.busy": "2022-02-20T07:26:57.544177Z",
     "iopub.status.idle": "2022-02-20T07:26:57.552213Z",
     "shell.execute_reply": "2022-02-20T07:26:57.55139Z",
     "shell.execute_reply.started": "2022-02-20T07:26:57.544638Z"
    }
   },
   "outputs": [],
   "source": [
    "def modelling(df1):\n",
    "    x_new = df1.drop('prognosis', axis = 1)\n",
    "    y_new = df1.prognosis\n",
    "    x_train_new, x_test_new, y_train_new, y_test_new = train_test_split(x_new, y_new, test_size=0.3, random_state=42) \n",
    "    tree.fit(x_train_new, y_train_new)\n",
    "    \n",
    "    pred_new = tree.predict(x_test_new)\n",
    "    \n",
    "    acc_new = tree.score(x_test_new, y_test_new)\n",
    "#     a = mean_absolute_error(y_test_new, pred_new)\n",
    "    print(\"Acurray on test set: {:.2f}%\".format(acc*100))\n",
    "#     print(\"mean_absolute_error of the test set: {:.2f}%\".format(a))"
   ]
  },
  {
   "cell_type": "code",
   "execution_count": null,
   "metadata": {
    "execution": {
     "iopub.execute_input": "2022-02-20T07:27:25.056789Z",
     "iopub.status.busy": "2022-02-20T07:27:25.056484Z",
     "iopub.status.idle": "2022-02-20T07:27:25.079517Z",
     "shell.execute_reply": "2022-02-20T07:27:25.078598Z",
     "shell.execute_reply.started": "2022-02-20T07:27:25.05676Z"
    }
   },
   "outputs": [],
   "source": [
    "test = pd.read_csv(\"../input/disease-prediction-using-machine-learning/Testing.csv\")\n",
    "test_new = test.drop(columns=zeros, axis=1)\n",
    "test_new.shape[1]"
   ]
  },
  {
   "cell_type": "code",
   "execution_count": null,
   "metadata": {
    "execution": {
     "iopub.execute_input": "2022-02-20T07:27:27.9449Z",
     "iopub.status.busy": "2022-02-20T07:27:27.944596Z",
     "iopub.status.idle": "2022-02-20T07:27:27.958422Z",
     "shell.execute_reply": "2022-02-20T07:27:27.957814Z",
     "shell.execute_reply.started": "2022-02-20T07:27:27.944863Z"
    }
   },
   "outputs": [],
   "source": [
    "modelling(test_new)"
   ]
  }
 ],
 "metadata": {
  "kernelspec": {
   "display_name": "Python 3 (ipykernel)",
   "language": "python",
   "name": "python3"
  },
  "language_info": {
   "codemirror_mode": {
    "name": "ipython",
    "version": 3
   },
   "file_extension": ".py",
   "mimetype": "text/x-python",
   "name": "python",
   "nbconvert_exporter": "python",
   "pygments_lexer": "ipython3",
   "version": "3.10.4"
  }
 },
 "nbformat": 4,
 "nbformat_minor": 4
}
